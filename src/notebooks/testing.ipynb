{
 "cells": [
  {
   "metadata": {},
   "cell_type": "markdown",
   "source": "# Testing",
   "id": "a9c9624578d040ce"
  },
  {
   "metadata": {},
   "cell_type": "code",
   "source": [
    "from pathlib import Path\n",
    "from src.datasets import TestDataset\n",
    "from torch.utils.data import DataLoader\n",
    "from torchvision.transforms import transforms, InterpolationMode\n",
    "import torch"
   ],
   "id": "603531c7a0a4602e",
   "outputs": [],
   "execution_count": null
  },
  {
   "metadata": {},
   "cell_type": "code",
   "source": "IM_RES = 256",
   "id": "3102431e4b56ca2b",
   "outputs": [],
   "execution_count": null
  },
  {
   "metadata": {},
   "cell_type": "code",
   "source": [
    "transform = transforms.Compose([\n",
    "    transforms.Resize((IM_RES, IM_RES), interpolation=InterpolationMode.BICUBIC),\n",
    "    transforms.ToTensor(),\n",
    "    transforms.Normalize(mean=[0.5], std=[0.5]),\n",
    "])"
   ],
   "id": "5404fc2fe462d4ae",
   "outputs": [],
   "execution_count": null
  },
  {
   "metadata": {},
   "cell_type": "code",
   "source": [
    "basepath = Path().resolve().parent.parent\n",
    "labeled_tabs_path = basepath / \"data\" / \"labelled_tabs.csv\"\n",
    "image_path = basepath / \"data\" / \"dataset\" / \"tabs\"\n",
    "filenames = [\"page-9_tab-0.png\", \"page-9_tab-1.png\", \"page-466_tab-9.png\", \"page-466_tab-5.png\"]\n",
    "predict_dataset = TestDataset.from_dir(image_path, filenames=filenames, transform=transform)\n",
    "predict_loader = DataLoader(predict_dataset, shuffle=False, batch_size=1)"
   ],
   "id": "7dd378465b46ab5a",
   "outputs": [],
   "execution_count": null
  },
  {
   "metadata": {},
   "cell_type": "code",
   "source": [
    "# TODO: Load fret_pos and finger model weights\n",
    "fret_pos_model = ...\n",
    "finger_model = ...\n",
    "\n",
    "device = torch.device(\"cuda:0\" if torch.cuda.is_available() else \"cpu\")\n",
    "fret_pos_model.to(device)\n",
    "finger_model.to(device)"
   ],
   "id": "87e82a94c18ff1ec",
   "outputs": [],
   "execution_count": null
  },
  {
   "metadata": {},
   "cell_type": "code",
   "source": [
    "# TODO: Annotate more data\n",
    "# TODO: Split train, val & test sets according to a config file (test on unseen data!)\n",
    "expected_classes = [\n",
    "    \"[0, 4, 3, 1, 2, 1] | [0, 3, 2, 0, 1, 0]\",\n",
    "    \"[2, 4, 4, 3, 2, 2] | [1, 3, 4, 2, 1, 1]\",\n",
    "    \"[0, 0, 5, 6, 4, 2] | [0, 0, 3, 4, 2, 1]\",\n",
    "    \"[3, 2, 3, 3, 0, 0] | [2, 1, 3, 4, 0, 0]\"\n",
    "]\n",
    "for im, filename, expected in zip(predict_loader, filenames, expected_classes):\n",
    "    im = im.to(device)\n",
    "    frets_classified = fret_pos_model.predict(im).tolist()[0]\n",
    "    fingers_classified = finger_model.predict(im).tolist()[0]\n",
    "    print(filename)\n",
    "    print(f\"-> Expected:  {expected}\")\n",
    "    print(f\"-> Predicted: {frets_classified} | {fingers_classified}\")"
   ],
   "id": "e897243e7694d69f",
   "outputs": [],
   "execution_count": null
  }
 ],
 "metadata": {
  "kernelspec": {
   "display_name": "Python 3",
   "language": "python",
   "name": "python3"
  },
  "language_info": {
   "codemirror_mode": {
    "name": "ipython",
    "version": 2
   },
   "file_extension": ".py",
   "mimetype": "text/x-python",
   "name": "python",
   "nbconvert_exporter": "python",
   "pygments_lexer": "ipython2",
   "version": "2.7.6"
  }
 },
 "nbformat": 4,
 "nbformat_minor": 5
}
