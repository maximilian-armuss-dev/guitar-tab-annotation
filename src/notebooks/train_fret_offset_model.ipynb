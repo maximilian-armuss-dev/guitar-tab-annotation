{
 "cells": [
  {
   "metadata": {},
   "cell_type": "markdown",
   "source": "# Imports",
   "id": "857ad30cbc9eac2e"
  },
  {
   "cell_type": "code",
   "id": "initial_id",
   "metadata": {
    "collapsed": true,
    "ExecuteTime": {
     "end_time": "2025-03-25T13:42:25.517199Z",
     "start_time": "2025-03-25T13:42:23.473694Z"
    }
   },
   "source": [
    "from src.datasets import FretOffsetTrainDataset\n",
    "from torch.utils.data import DataLoader\n",
    "from src.model import NotationModel, ModelConfig\n",
    "from torchvision.transforms import InterpolationMode\n",
    "from pathlib import Path\n",
    "\n",
    "import torchvision.transforms as transforms\n",
    "import pytorch_lightning as pl\n",
    "import torch"
   ],
   "outputs": [],
   "execution_count": 1
  },
  {
   "metadata": {},
   "cell_type": "markdown",
   "source": "### Hyperparameters",
   "id": "9801ec72a33744a5"
  },
  {
   "metadata": {
    "ExecuteTime": {
     "end_time": "2025-03-25T13:42:25.523178Z",
     "start_time": "2025-03-25T13:42:25.520400Z"
    }
   },
   "cell_type": "code",
   "source": [
    "BATCH_SIZE = 32\n",
    "FEATURE_NUM = 2**9\n",
    "IN_CHANNELS = 2**6\n",
    "NUM_HEADS = 1\n",
    "IM_RES = 64\n",
    "AVG_POOL_DIM = 4\n",
    "EPOCH_NUM = 30\n",
    "LR = 1e-4\n",
    "NUM_WORKERS = 4\n",
    "NUM_CLASSES = 13"
   ],
   "id": "ebed029511588dff",
   "outputs": [],
   "execution_count": 2
  },
  {
   "metadata": {},
   "cell_type": "markdown",
   "source": "### Dataset",
   "id": "8cc030955d6f2768"
  },
  {
   "metadata": {
    "ExecuteTime": {
     "end_time": "2025-03-25T13:42:25.677171Z",
     "start_time": "2025-03-25T13:42:25.674163Z"
    }
   },
   "cell_type": "code",
   "source": [
    "transform = transforms.Compose([\n",
    "    transforms.Resize((IM_RES, IM_RES), interpolation=InterpolationMode.BICUBIC),\n",
    "    transforms.ToTensor(),\n",
    "    transforms.Normalize(mean=[0.5], std=[0.5]),\n",
    "])\n",
    "\n",
    "augmentations = transforms.Compose([\n",
    "    transforms.RandomAffine(degrees=0, translate=(0.04, 0.04))\n",
    "])"
   ],
   "id": "4af37d45ca653d78",
   "outputs": [],
   "execution_count": 3
  },
  {
   "metadata": {
    "ExecuteTime": {
     "end_time": "2025-03-25T13:42:29.311923Z",
     "start_time": "2025-03-25T13:42:25.723954Z"
    }
   },
   "cell_type": "code",
   "source": [
    "from src.util import split_dataset\n",
    "\n",
    "basepath = Path().resolve().parent.parent\n",
    "labeled_tabs_path = basepath / \"data\" / \"labelled_fret_offsets.csv\"\n",
    "image_path = basepath / \"data\" / \"dataset\" / \"frets\"\n",
    "\n",
    "dataset = FretOffsetTrainDataset(labeled_tabs_path, image_path, transform, augmentations=augmentations)\n",
    "train_set, val_set = split_dataset(dataset, train_ratio=0.9)\n",
    "\n",
    "kwargs = {\n",
    "    \"num_workers\": NUM_WORKERS,\n",
    "    \"batch_size\": BATCH_SIZE,\n",
    "    \"pin_memory\": True,\n",
    "}\n",
    "\n",
    "train_loader = DataLoader(train_set, shuffle=True, **kwargs)\n",
    "val_loader = DataLoader(val_set, shuffle=False, **kwargs)"
   ],
   "id": "bb61d22069cf3640",
   "outputs": [
    {
     "name": "stdout",
     "output_type": "stream",
     "text": [
      "Train set size: 423\n",
      "Val set size: 47\n"
     ]
    }
   ],
   "execution_count": 4
  },
  {
   "metadata": {
    "ExecuteTime": {
     "end_time": "2025-03-25T13:42:29.432954Z",
     "start_time": "2025-03-25T13:42:29.328204Z"
    }
   },
   "cell_type": "code",
   "source": [
    "from src.util import montage_from_ds\n",
    "\n",
    "# TODO: fix iteration\n",
    "montage_from_ds(train_set, 3)\n",
    "print(f\"Image shape: {train_set[0][0].shape}\")"
   ],
   "id": "dbbc62a21778fb7a",
   "outputs": [
    {
     "data": {
      "text/plain": [
       "<Figure size 1500x900 with 3 Axes>"
      ],
      "image/png": "[encoded data removed]"
     },
     "metadata": {},
     "output_type": "display_data"
    },
    {
     "name": "stdout",
     "output_type": "stream",
     "text": [
      "Image shape: torch.Size([1, 64, 64])\n"
     ]
    }
   ],
   "execution_count": 5
  },
  {
   "metadata": {},
   "cell_type": "markdown",
   "source": "### Trainer Setup",
   "id": "3c73adcee4f77a73"
  },
  {
   "metadata": {
    "ExecuteTime": {
     "end_time": "2025-03-25T13:42:29.567510Z",
     "start_time": "2025-03-25T13:42:29.503064Z"
    }
   },
   "cell_type": "code",
   "source": [
    "checkpoint_callback = pl.callbacks.ModelCheckpoint(\n",
    "    monitor=\"val_loss\",\n",
    "    save_top_k=1,\n",
    "    mode=\"min\",\n",
    "    dirpath=\"model_checkpoints\",\n",
    "    filename=\"model-{epoch:02d}-{val_loss:.2f}\"\n",
    ")\n",
    "\n",
    "trainer_config = {\n",
    "    \"log_every_n_steps\": 3,\n",
    "    \"enable_model_summary\": True,\n",
    "    \"accelerator\": \"gpu\" if torch.cuda.is_available() else \"cpu\",\n",
    "    # \"profiler\": \"simple\",\n",
    "    \"enable_checkpointing\": False, \n",
    "    # \"callbacks\": [checkpoint_callback],\n",
    "    \"logger\": False\n",
    "}\n",
    "\n",
    "trainer = pl.Trainer(max_epochs=EPOCH_NUM, **trainer_config)"
   ],
   "id": "ee47a601f794a4bb",
   "outputs": [
    {
     "name": "stderr",
     "output_type": "stream",
     "text": [
      "GPU available: True (cuda), used: True\n",
      "TPU available: False, using: 0 TPU cores\n",
      "HPU available: False, using: 0 HPUs\n"
     ]
    }
   ],
   "execution_count": 6
  },
  {
   "metadata": {},
   "cell_type": "markdown",
   "source": "## Tab Prediction",
   "id": "bb062008a66e91f2"
  },
  {
   "metadata": {
    "ExecuteTime": {
     "end_time": "2025-03-25T13:42:29.629399Z",
     "start_time": "2025-03-25T13:42:29.581744Z"
    }
   },
   "cell_type": "code",
   "source": [
    "model_config = ModelConfig(num_classes=NUM_CLASSES,\n",
    "                           feature_num=FEATURE_NUM,\n",
    "                           im_res=IM_RES,\n",
    "                           num_heads=NUM_HEADS,\n",
    "                           in_channels=IN_CHANNELS,\n",
    "                           avg_pool_dim=AVG_POOL_DIM,\n",
    "                           learning_rate=LR)\n",
    "model = NotationModel(model_config)"
   ],
   "id": "686700f966a4594b",
   "outputs": [],
   "execution_count": 7
  },
  {
   "metadata": {
    "ExecuteTime": {
     "end_time": "2025-03-25T13:42:41.460561Z",
     "start_time": "2025-03-25T13:42:29.643195Z"
    }
   },
   "cell_type": "code",
   "source": "trainer.fit(model, train_loader, val_loader)",
   "id": "ec12fbe5b526bd77",
   "outputs": [
    {
     "name": "stderr",
     "output_type": "stream",
     "text": [
      "You are using a CUDA device ('NVIDIA GeForce RTX 4070') that has Tensor Cores. To properly utilize them, you should set `torch.set_float32_matmul_precision('medium' | 'high')` which will trade-off precision for performance. For more details, read https://pytorch.org/docs/stable/generated/torch.set_float32_matmul_precision.html#torch.set_float32_matmul_precision\n",
      "LOCAL_RANK: 0 - CUDA_VISIBLE_DEVICES: [0]\n",
      "\n",
      "  | Name                 | Type       | Params | Mode \n",
      "------------------------------------------------------------\n",
      "0 | encoder              | Sequential | 11.0 M | train\n",
      "1 | classification_heads | ModuleList | 106 K  | train\n",
      "------------------------------------------------------------\n",
      "11.1 M    Trainable params\n",
      "0         Non-trainable params\n",
      "11.1 M    Total params\n",
      "44.400    Total estimated model params size (MB)\n",
      "36        Modules in train mode\n",
      "0         Modules in eval mode\n"
     ]
    },
    {
     "data": {
      "text/plain": [
       "Sanity Checking: |          | 0/? [00:00<?, ?it/s]"
      ],
      "application/vnd.jupyter.widget-view+json": {
       "version_major": 2,
       "version_minor": 0,
       "model_id": "451abb767c59444d8db94ac31e4712c0"
      }
     },
     "metadata": {},
     "output_type": "display_data"
    },
    {
     "data": {
      "text/plain": [
       "Training: |          | 0/? [00:00<?, ?it/s]"
      ],
      "application/vnd.jupyter.widget-view+json": {
       "version_major": 2,
       "version_minor": 0,
       "model_id": "ec5c7d223f9448d492f8b28b8220475d"
      }
     },
     "metadata": {},
     "output_type": "display_data"
    },
    {
     "data": {
      "text/plain": [
       "Validation: |          | 0/? [00:00<?, ?it/s]"
      ],
      "application/vnd.jupyter.widget-view+json": {
       "version_major": 2,
       "version_minor": 0,
       "model_id": "589f127ff026464b89e99f0f4d7e1c44"
      }
     },
     "metadata": {},
     "output_type": "display_data"
    },
    {
     "data": {
      "text/plain": [
       "Validation: |          | 0/? [00:00<?, ?it/s]"
      ],
      "application/vnd.jupyter.widget-view+json": {
       "version_major": 2,
       "version_minor": 0,
       "model_id": "feed5e91dab341aa8567436f363c8c4c"
      }
     },
     "metadata": {},
     "output_type": "display_data"
    },
    {
     "data": {
      "text/plain": [
       "Validation: |          | 0/? [00:00<?, ?it/s]"
      ],
      "application/vnd.jupyter.widget-view+json": {
       "version_major": 2,
       "version_minor": 0,
       "model_id": "b2ebe4654eb24bb3a0fa6405d59de7a0"
      }
     },
     "metadata": {},
     "output_type": "display_data"
    },
    {
     "data": {
      "text/plain": [
       "Validation: |          | 0/? [00:00<?, ?it/s]"
      ],
      "application/vnd.jupyter.widget-view+json": {
       "version_major": 2,
       "version_minor": 0,
       "model_id": "a9a6d7cdbc10443088b2fd2d1d49a04b"
      }
     },
     "metadata": {},
     "output_type": "display_data"
    },
    {
     "data": {
      "text/plain": [
       "Validation: |          | 0/? [00:00<?, ?it/s]"
      ],
      "application/vnd.jupyter.widget-view+json": {
       "version_major": 2,
       "version_minor": 0,
       "model_id": "edccf71919ce475d8bf1cde94d297a22"
      }
     },
     "metadata": {},
     "output_type": "display_data"
    },
    {
     "data": {
      "text/plain": [
       "Validation: |          | 0/? [00:00<?, ?it/s]"
      ],
      "application/vnd.jupyter.widget-view+json": {
       "version_major": 2,
       "version_minor": 0,
       "model_id": "085025c89c5642608a1e4f614644f92d"
      }
     },
     "metadata": {},
     "output_type": "display_data"
    },
    {
     "data": {
      "text/plain": [
       "Validation: |          | 0/? [00:00<?, ?it/s]"
      ],
      "application/vnd.jupyter.widget-view+json": {
       "version_major": 2,
       "version_minor": 0,
       "model_id": "fce19d6fd69c4c1189a6e719d0a93874"
      }
     },
     "metadata": {},
     "output_type": "display_data"
    },
    {
     "data": {
      "text/plain": [
       "Validation: |          | 0/? [00:00<?, ?it/s]"
      ],
      "application/vnd.jupyter.widget-view+json": {
       "version_major": 2,
       "version_minor": 0,
       "model_id": "20935f18953d45d78e5ce5adcf5d794b"
      }
     },
     "metadata": {},
     "output_type": "display_data"
    },
    {
     "data": {
      "text/plain": [
       "Validation: |          | 0/? [00:00<?, ?it/s]"
      ],
      "application/vnd.jupyter.widget-view+json": {
       "version_major": 2,
       "version_minor": 0,
       "model_id": "1937d82e7dec4e0c965cf1ada51d0a13"
      }
     },
     "metadata": {},
     "output_type": "display_data"
    },
    {
     "data": {
      "text/plain": [
       "Validation: |          | 0/? [00:00<?, ?it/s]"
      ],
      "application/vnd.jupyter.widget-view+json": {
       "version_major": 2,
       "version_minor": 0,
       "model_id": "46a92c5e5458407ab26567de9e7f7bbd"
      }
     },
     "metadata": {},
     "output_type": "display_data"
    },
    {
     "data": {
      "text/plain": [
       "Validation: |          | 0/? [00:00<?, ?it/s]"
      ],
      "application/vnd.jupyter.widget-view+json": {
       "version_major": 2,
       "version_minor": 0,
       "model_id": "2edb175f75f445b4bbe0d7979309be5d"
      }
     },
     "metadata": {},
     "output_type": "display_data"
    },
    {
     "data": {
      "text/plain": [
       "Validation: |          | 0/? [00:00<?, ?it/s]"
      ],
      "application/vnd.jupyter.widget-view+json": {
       "version_major": 2,
       "version_minor": 0,
       "model_id": "9b3f7917e3ed49b89c25dd62d91431c4"
      }
     },
     "metadata": {},
     "output_type": "display_data"
    },
    {
     "data": {
      "text/plain": [
       "Validation: |          | 0/? [00:00<?, ?it/s]"
      ],
      "application/vnd.jupyter.widget-view+json": {
       "version_major": 2,
       "version_minor": 0,
       "model_id": "f0cc229d83ff42889d8e4c55f5d89d6d"
      }
     },
     "metadata": {},
     "output_type": "display_data"
    },
    {
     "data": {
      "text/plain": [
       "Validation: |          | 0/? [00:00<?, ?it/s]"
      ],
      "application/vnd.jupyter.widget-view+json": {
       "version_major": 2,
       "version_minor": 0,
       "model_id": "ef4555fda06849aa9730cbf5354da938"
      }
     },
     "metadata": {},
     "output_type": "display_data"
    },
    {
     "data": {
      "text/plain": [
       "Validation: |          | 0/? [00:00<?, ?it/s]"
      ],
      "application/vnd.jupyter.widget-view+json": {
       "version_major": 2,
       "version_minor": 0,
       "model_id": "4e51828136a64a6abf9172c81d32936c"
      }
     },
     "metadata": {},
     "output_type": "display_data"
    },
    {
     "data": {
      "text/plain": [
       "Validation: |          | 0/? [00:00<?, ?it/s]"
      ],
      "application/vnd.jupyter.widget-view+json": {
       "version_major": 2,
       "version_minor": 0,
       "model_id": "2396cf5f55df4de29ebbacc3f778d811"
      }
     },
     "metadata": {},
     "output_type": "display_data"
    },
    {
     "data": {
      "text/plain": [
       "Validation: |          | 0/? [00:00<?, ?it/s]"
      ],
      "application/vnd.jupyter.widget-view+json": {
       "version_major": 2,
       "version_minor": 0,
       "model_id": "66ece684f1e04ad08f1c580a3e907980"
      }
     },
     "metadata": {},
     "output_type": "display_data"
    },
    {
     "data": {
      "text/plain": [
       "Validation: |          | 0/? [00:00<?, ?it/s]"
      ],
      "application/vnd.jupyter.widget-view+json": {
       "version_major": 2,
       "version_minor": 0,
       "model_id": "1c855dae53734974a83531f93a6dac44"
      }
     },
     "metadata": {},
     "output_type": "display_data"
    },
    {
     "data": {
      "text/plain": [
       "Validation: |          | 0/? [00:00<?, ?it/s]"
      ],
      "application/vnd.jupyter.widget-view+json": {
       "version_major": 2,
       "version_minor": 0,
       "model_id": "93a29f250de748fb93ccd01f5a7c54be"
      }
     },
     "metadata": {},
     "output_type": "display_data"
    },
    {
     "data": {
      "text/plain": [
       "Validation: |          | 0/? [00:00<?, ?it/s]"
      ],
      "application/vnd.jupyter.widget-view+json": {
       "version_major": 2,
       "version_minor": 0,
       "model_id": "d3ab200970604e0a8b0fa8848ed5cf64"
      }
     },
     "metadata": {},
     "output_type": "display_data"
    },
    {
     "data": {
      "text/plain": [
       "Validation: |          | 0/? [00:00<?, ?it/s]"
      ],
      "application/vnd.jupyter.widget-view+json": {
       "version_major": 2,
       "version_minor": 0,
       "model_id": "2869fa70a3e24931ae91986652340799"
      }
     },
     "metadata": {},
     "output_type": "display_data"
    },
    {
     "data": {
      "text/plain": [
       "Validation: |          | 0/? [00:00<?, ?it/s]"
      ],
      "application/vnd.jupyter.widget-view+json": {
       "version_major": 2,
       "version_minor": 0,
       "model_id": "c8237c70991549aa86e20f16c02e8f6c"
      }
     },
     "metadata": {},
     "output_type": "display_data"
    },
    {
     "data": {
      "text/plain": [
       "Validation: |          | 0/? [00:00<?, ?it/s]"
      ],
      "application/vnd.jupyter.widget-view+json": {
       "version_major": 2,
       "version_minor": 0,
       "model_id": "fa414623d23e402eaf7a52ea5bda1aec"
      }
     },
     "metadata": {},
     "output_type": "display_data"
    },
    {
     "data": {
      "text/plain": [
       "Validation: |          | 0/? [00:00<?, ?it/s]"
      ],
      "application/vnd.jupyter.widget-view+json": {
       "version_major": 2,
       "version_minor": 0,
       "model_id": "2b6a336bfefa4cc3a83ab84535a5df29"
      }
     },
     "metadata": {},
     "output_type": "display_data"
    },
    {
     "data": {
      "text/plain": [
       "Validation: |          | 0/? [00:00<?, ?it/s]"
      ],
      "application/vnd.jupyter.widget-view+json": {
       "version_major": 2,
       "version_minor": 0,
       "model_id": "60ca77d1208f4149bd8232a9ee83ecb4"
      }
     },
     "metadata": {},
     "output_type": "display_data"
    },
    {
     "data": {
      "text/plain": [
       "Validation: |          | 0/? [00:00<?, ?it/s]"
      ],
      "application/vnd.jupyter.widget-view+json": {
       "version_major": 2,
       "version_minor": 0,
       "model_id": "da5c653abf5e4f19986f19c2923687ca"
      }
     },
     "metadata": {},
     "output_type": "display_data"
    },
    {
     "data": {
      "text/plain": [
       "Validation: |          | 0/? [00:00<?, ?it/s]"
      ],
      "application/vnd.jupyter.widget-view+json": {
       "version_major": 2,
       "version_minor": 0,
       "model_id": "a6d7604252ea4c9a8065955ce729fa15"
      }
     },
     "metadata": {},
     "output_type": "display_data"
    },
    {
     "data": {
      "text/plain": [
       "Validation: |          | 0/? [00:00<?, ?it/s]"
      ],
      "application/vnd.jupyter.widget-view+json": {
       "version_major": 2,
       "version_minor": 0,
       "model_id": "c816ea54510d42319baef535b3e53dd5"
      }
     },
     "metadata": {},
     "output_type": "display_data"
    },
    {
     "data": {
      "text/plain": [
       "Validation: |          | 0/? [00:00<?, ?it/s]"
      ],
      "application/vnd.jupyter.widget-view+json": {
       "version_major": 2,
       "version_minor": 0,
       "model_id": "3c853d1b6dec4c188074574a9adbab45"
      }
     },
     "metadata": {},
     "output_type": "display_data"
    },
    {
     "data": {
      "text/plain": [
       "Validation: |          | 0/? [00:00<?, ?it/s]"
      ],
      "application/vnd.jupyter.widget-view+json": {
       "version_major": 2,
       "version_minor": 0,
       "model_id": "c2adf6c834774faabb38977c1507b97b"
      }
     },
     "metadata": {},
     "output_type": "display_data"
    },
    {
     "name": "stderr",
     "output_type": "stream",
     "text": [
      "`Trainer.fit` stopped: `max_epochs=30` reached.\n"
     ]
    }
   ],
   "execution_count": 8
  },
  {
   "metadata": {
    "ExecuteTime": {
     "end_time": "2025-03-25T13:42:41.561277Z",
     "start_time": "2025-03-25T13:42:41.479571Z"
    }
   },
   "cell_type": "code",
   "source": [
    "from src.util import show_loss_info\n",
    "\n",
    "tab_train_losses = model.train_losses\n",
    "tab_val_losses = model.val_losses[1:] # PyTorch Lightning performs 1 validation step before training starts\n",
    "show_loss_info(tab_train_losses, tab_val_losses)"
   ],
   "id": "b748fc4227b55c1c",
   "outputs": [
    {
     "data": {
      "text/plain": [
       "<Figure size 640x480 with 1 Axes>"
      ],
      "image/png": "[encoded data removed]"
     },
     "metadata": {},
     "output_type": "display_data"
    },
    {
     "name": "stdout",
     "output_type": "stream",
     "text": [
      "Training loss: 0.0213552\n",
      "Validation loss: 0.4725042\n"
     ]
    }
   ],
   "execution_count": 9
  },
  {
   "metadata": {
    "ExecuteTime": {
     "end_time": "2025-03-25T13:42:42.015362Z",
     "start_time": "2025-03-25T13:42:41.574744Z"
    }
   },
   "cell_type": "code",
   "source": [
    "from src.datasets import TestDataset\n",
    "from src.util import model_montage, montage\n",
    "import random \n",
    "import os\n",
    "\n",
    "SHOW_NUM = 20\n",
    "\n",
    "device = torch.device(\"cuda:0\" if torch.cuda.is_available() else \"cpu\")\n",
    "model.to(device)\n",
    "\n",
    "filenames = random.choices(os.listdir(image_path), k=SHOW_NUM)\n",
    "small_predict_dataset = TestDataset.from_dir(image_path, filenames=filenames, transform=transform)\n",
    "small_predict_loader = DataLoader(small_predict_dataset, shuffle=False, batch_size=BATCH_SIZE)\n",
    "    \n",
    "model_montage(small_predict_loader, model, show_num=SHOW_NUM)"
   ],
   "id": "45963182f29cc9d2",
   "outputs": [
    {
     "data": {
      "text/plain": [
       "<Figure size 1500x6000 with 20 Axes>"
      ],
      "image/png": "[encoded data removed]"
     },
     "metadata": {},
     "output_type": "display_data"
    }
   ],
   "execution_count": 10
  },
  {
   "metadata": {
    "ExecuteTime": {
     "end_time": "2025-03-25T13:42:42.039796Z",
     "start_time": "2025-03-25T13:42:42.029205Z"
    }
   },
   "cell_type": "code",
   "source": [
    "val_set.remove_augmentations()\n",
    "# TODO: Add Test set that has never been seen by the model and doesnt contain augmentations, also for validation set!!\n",
    "predict_loader = DataLoader(val_set, batch_size=1, shuffle=False, num_workers=NUM_WORKERS)\n",
    "\n",
    "misclassified = []\n",
    "for index, data in enumerate(predict_loader):\n",
    "    im, label = data\n",
    "    im = im.to(device)\n",
    "    classified = model.predict(im)\n",
    "    if label.item() == classified.item():\n",
    "        continue\n",
    "    misclassified.append((im[0], classified))\n",
    "\n",
    "montage(misclassified, SHOW_NUM)\n",
    "\n",
    "# TODO: Write function that converts logits to probabilities while not introducing under- / overconfidence\n",
    "# TODO: Compare confidence of misclassifications to correct classifications\n",
    "# TODO: Add more metrics other than train / val loss"
   ],
   "id": "3eba7a606e483132",
   "outputs": [
    {
     "ename": "AttributeError",
     "evalue": "'Subset' object has no attribute 'remove_augmentations'",
     "output_type": "error",
     "traceback": [
      "\u001B[0;31m---------------------------------------------------------------------------\u001B[0m",
      "\u001B[0;31mAttributeError\u001B[0m                            Traceback (most recent call last)",
      "Cell \u001B[0;32mIn[11], line 1\u001B[0m\n\u001B[0;32m----> 1\u001B[0m \u001B[43mval_set\u001B[49m\u001B[38;5;241;43m.\u001B[39;49m\u001B[43mremove_augmentations\u001B[49m()\n\u001B[1;32m      2\u001B[0m \u001B[38;5;66;03m# TODO: Add Test set that has never been seen by the model and doesnt contain augmentations, also for validation set!!\u001B[39;00m\n\u001B[1;32m      3\u001B[0m predict_loader \u001B[38;5;241m=\u001B[39m DataLoader(val_set, batch_size\u001B[38;5;241m=\u001B[39m\u001B[38;5;241m1\u001B[39m, shuffle\u001B[38;5;241m=\u001B[39m\u001B[38;5;28;01mFalse\u001B[39;00m, num_workers\u001B[38;5;241m=\u001B[39mNUM_WORKERS)\n",
      "\u001B[0;31mAttributeError\u001B[0m: 'Subset' object has no attribute 'remove_augmentations'"
     ]
    }
   ],
   "execution_count": 11
  }
 ],
 "metadata": {
  "kernelspec": {
   "display_name": "Python 3",
   "language": "python",
   "name": "python3"
  },
  "language_info": {
   "codemirror_mode": {
    "name": "ipython",
    "version": 2
   },
   "file_extension": ".py",
   "mimetype": "text/x-python",
   "name": "python",
   "nbconvert_exporter": "python",
   "pygments_lexer": "ipython2",
   "version": "2.7.6"
  }
 },
 "nbformat": 4,
 "nbformat_minor": 5
}
