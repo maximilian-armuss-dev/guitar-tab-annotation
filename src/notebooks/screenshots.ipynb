{
 "cells": [
  {
   "metadata": {},
   "cell_type": "markdown",
   "source": [
    "# Creating Screenshots\n",
    "\n",
    "This Notebook creates screenshots of all chords in 'Guitar Chords Galore.pdf'.\n"
   ],
   "id": "acc5b65c9e195032"
  },
  {
   "metadata": {},
   "cell_type": "code",
   "source": [
    "from src.create_screenshots import create_screenshots\n",
    "from pathlib import Path\n",
    "import os\n",
    "\n",
    "parent_dir = Path(os.getcwd())\n",
    "root_dir = parent_dir.parent.parent\n",
    "data_dir = root_dir / \"data\"\n",
    "tab_dir = root_dir / \"data\" / \"dataset\" / \"tabs\"\n",
    "fret_dir = root_dir / \"data\" / \"dataset\" / \"frets\"\n",
    "target_pdf_path = root_dir / \"data\" / \"Guitar Chords Galore.pdf\"\n",
    "os.makedirs(tab_dir, exist_ok=True)\n",
    "os.makedirs(fret_dir, exist_ok=True)\n",
    "num_pngs = len(os.listdir(fret_dir))\n",
    "if num_pngs > 0:\n",
    "    print(f\"Skipping screenshot creation, {num_pngs} images found\")\n",
    "else:\n",
    "    print(\"Converting PDF to images...\")\n",
    "    create_screenshots(tab_dir, fret_dir, target_pdf_path)"
   ],
   "id": "88a23f11cdab0e8a",
   "outputs": [],
   "execution_count": null
  }
 ],
 "metadata": {
  "kernelspec": {
   "display_name": "Python 3",
   "language": "python",
   "name": "python3"
  },
  "language_info": {
   "codemirror_mode": {
    "name": "ipython",
    "version": 2
   },
   "file_extension": ".py",
   "mimetype": "text/x-python",
   "name": "python",
   "nbconvert_exporter": "python",
   "pygments_lexer": "ipython2",
   "version": "2.7.6"
  }
 },
 "nbformat": 4,
 "nbformat_minor": 5
}
